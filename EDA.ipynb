{
 "cells": [
  {
   "cell_type": "code",
   "execution_count": 3,
   "id": "8edc1f23",
   "metadata": {},
   "outputs": [],
   "source": [
    "import pandas as pd\n",
    "import numpy as np\n"
   ]
  },
  {
   "cell_type": "code",
   "execution_count": 10,
   "id": "321a1024",
   "metadata": {},
   "outputs": [
    {
     "data": {
      "text/html": [
       "<div>\n",
       "<style scoped>\n",
       "    .dataframe tbody tr th:only-of-type {\n",
       "        vertical-align: middle;\n",
       "    }\n",
       "\n",
       "    .dataframe tbody tr th {\n",
       "        vertical-align: top;\n",
       "    }\n",
       "\n",
       "    .dataframe thead th {\n",
       "        text-align: right;\n",
       "    }\n",
       "</style>\n",
       "<table border=\"1\" class=\"dataframe\">\n",
       "  <thead>\n",
       "    <tr style=\"text-align: right;\">\n",
       "      <th></th>\n",
       "      <th>date</th>\n",
       "      <th>country</th>\n",
       "      <th>continent</th>\n",
       "      <th>confirmed_cases</th>\n",
       "      <th>deaths</th>\n",
       "      <th>recovered</th>\n",
       "      <th>tests_done</th>\n",
       "      <th>vaccinations</th>\n",
       "    </tr>\n",
       "  </thead>\n",
       "  <tbody>\n",
       "    <tr>\n",
       "      <th>0</th>\n",
       "      <td>2020-12-13 09:00:00</td>\n",
       "      <td>USA</td>\n",
       "      <td>North America</td>\n",
       "      <td>491582.0</td>\n",
       "      <td>12213.0</td>\n",
       "      <td>45832.0</td>\n",
       "      <td>888848.000000</td>\n",
       "      <td>412233.000000</td>\n",
       "    </tr>\n",
       "    <tr>\n",
       "      <th>1</th>\n",
       "      <td>2020-07-02 12:00:00</td>\n",
       "      <td>Brazil</td>\n",
       "      <td>South America</td>\n",
       "      <td>449840.0</td>\n",
       "      <td>1943.0</td>\n",
       "      <td>72622.0</td>\n",
       "      <td>508584.088742</td>\n",
       "      <td>126948.000000</td>\n",
       "    </tr>\n",
       "    <tr>\n",
       "      <th>2</th>\n",
       "      <td>2020-02-09 11:00:00</td>\n",
       "      <td>Germany</td>\n",
       "      <td>Europe</td>\n",
       "      <td>427485.0</td>\n",
       "      <td>6905.0</td>\n",
       "      <td>390670.0</td>\n",
       "      <td>136830.000000</td>\n",
       "      <td>672999.000000</td>\n",
       "    </tr>\n",
       "    <tr>\n",
       "      <th>3</th>\n",
       "      <td>2020-01-22 04:00:00</td>\n",
       "      <td>Russia</td>\n",
       "      <td>Europe</td>\n",
       "      <td>339252.0</td>\n",
       "      <td>16053.0</td>\n",
       "      <td>300459.0</td>\n",
       "      <td>173875.000000</td>\n",
       "      <td>858869.000000</td>\n",
       "    </tr>\n",
       "    <tr>\n",
       "      <th>4</th>\n",
       "      <td>2021-01-07 01:00:00</td>\n",
       "      <td>UK</td>\n",
       "      <td>Europe</td>\n",
       "      <td>228273.0</td>\n",
       "      <td>440.0</td>\n",
       "      <td>42711.0</td>\n",
       "      <td>233865.000000</td>\n",
       "      <td>497636.159014</td>\n",
       "    </tr>\n",
       "  </tbody>\n",
       "</table>\n",
       "</div>"
      ],
      "text/plain": [
       "                  date  country      continent  confirmed_cases   deaths  \\\n",
       "0  2020-12-13 09:00:00      USA  North America         491582.0  12213.0   \n",
       "1  2020-07-02 12:00:00   Brazil  South America         449840.0   1943.0   \n",
       "2  2020-02-09 11:00:00  Germany         Europe         427485.0   6905.0   \n",
       "3  2020-01-22 04:00:00   Russia         Europe         339252.0  16053.0   \n",
       "4  2021-01-07 01:00:00       UK         Europe         228273.0    440.0   \n",
       "\n",
       "   recovered     tests_done   vaccinations  \n",
       "0    45832.0  888848.000000  412233.000000  \n",
       "1    72622.0  508584.088742  126948.000000  \n",
       "2   390670.0  136830.000000  672999.000000  \n",
       "3   300459.0  173875.000000  858869.000000  \n",
       "4    42711.0  233865.000000  497636.159014  "
      ]
     },
     "execution_count": 10,
     "metadata": {},
     "output_type": "execute_result"
    }
   ],
   "source": [
    "df = pd.read_csv('cleaned_data.csv')\n",
    "df.head()"
   ]
  },
  {
   "cell_type": "code",
   "execution_count": 14,
   "id": "817a643e",
   "metadata": {},
   "outputs": [
    {
     "name": "stdout",
     "output_type": "stream",
     "text": [
      "2488557655.337737\n",
      "101529564.07442966\n",
      "1998803757.1776357\n",
      "199880.37571776356\n",
      "80.31976887858626\n"
     ]
    }
   ],
   "source": [
    "confirmed_cases = df['confirmed_cases'].sum()\n",
    "total_death = df['deaths'].sum()\n",
    "total_recoveries = df['recovered'].sum()\n",
    "average_recovery = df['recovered'].mean()\n",
    "global_recovery_rate = (total_recoveries/confirmed_cases) * 100\n",
    "print(confirmed_cases)\n",
    "print(total_death)\n",
    "print(total_recoveries)\n",
    "print(average_recovery)\n",
    "print(global_recovery_rate)"
   ]
  },
  {
   "cell_type": "code",
   "execution_count": 15,
   "id": "2bc4ce9d",
   "metadata": {},
   "outputs": [
    {
     "name": "stdout",
     "output_type": "stream",
     "text": [
      "4.079855809515109\n",
      "80.31976887858626\n"
     ]
    }
   ],
   "source": [
    "# Top 10 countries\n",
    "cd = df.groupby(\"country\", as_index=False)[[\"confirmed_cases\", \"deaths\", \"recovered\", \"tests_done\", \"vaccinations\"]].sum()\n",
    "ef = cd.sort_values(by='confirmed_cases', ascending=False).head(10).reset_index()\n",
    "ef.to_csv(\"top10_data.csv\", index=False)\n",
    "\n",
    "mortality_rate = (df['deaths'].sum()/df['confirmed_cases'].sum()) * 100\n",
    "recovery_rate = (df['recovered'].sum()/df['confirmed_cases'].sum()) * 100\n",
    "print(mortality_rate)\n",
    "print(recovery_rate)"
   ]
  },
  {
   "cell_type": "code",
   "execution_count": null,
   "id": "a39a0c6a",
   "metadata": {},
   "outputs": [
    {
     "name": "stdout",
     "output_type": "stream",
     "text": [
      "<class 'pandas.core.frame.DataFrame'>\n",
      "Index: 4 entries, Asia to South America\n",
      "Data columns (total 4 columns):\n",
      " #   Column           Non-Null Count  Dtype  \n",
      "---  ------           --------------  -----  \n",
      " 0   confirmed_cases  4 non-null      float64\n",
      " 1   deaths           4 non-null      float64\n",
      " 2   recovered        4 non-null      float64\n",
      " 3   vaccinations     4 non-null      float64\n",
      "dtypes: float64(4)\n",
      "memory usage: 160.0+ bytes\n",
      "None\n"
     ]
    }
   ],
   "source": [
    "# Regional analysis\n",
    "\n",
    "regional_data = df.groupby('continent')[['confirmed_cases', 'deaths', 'recovered', 'vaccinations']].sum()"
   ]
  }
 ],
 "metadata": {
  "kernelspec": {
   "display_name": "venv",
   "language": "python",
   "name": "python3"
  },
  "language_info": {
   "codemirror_mode": {
    "name": "ipython",
    "version": 3
   },
   "file_extension": ".py",
   "mimetype": "text/x-python",
   "name": "python",
   "nbconvert_exporter": "python",
   "pygments_lexer": "ipython3",
   "version": "3.13.7"
  }
 },
 "nbformat": 4,
 "nbformat_minor": 5
}
